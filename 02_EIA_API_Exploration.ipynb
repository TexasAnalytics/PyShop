{
 "cells": [
  {
   "cell_type": "markdown",
   "metadata": {},
   "source": [
    "# Exploring the EIA  API|"
   ]
  },
  {
   "cell_type": "code",
   "execution_count": 2,
   "metadata": {},
   "outputs": [],
   "source": [
    "from keys import *\n",
    "\n",
    "import requests\n",
    "\n",
    "from pprint import pprint\n",
    "\n",
    "import pandas as pd"
   ]
  },
  {
   "cell_type": "markdown",
   "metadata": {},
   "source": [
    "Documentation: https://www.eia.gov/opendata/documentation.php\n"
   ]
  },
  {
   "cell_type": "markdown",
   "metadata": {},
   "source": [
    "## API Version 1"
   ]
  },
  {
   "cell_type": "code",
   "execution_count": 4,
   "metadata": {},
   "outputs": [
    {
     "name": "stdout",
     "output_type": "stream",
     "text": [
      "{'category': {'category_id': '714804',\n",
      "              'childcategories': [{'category_id': 714805, 'name': 'Summary'},\n",
      "                                  {'category_id': 714806, 'name': 'Prices'},\n",
      "                                  {'category_id': 714807,\n",
      "                                   'name': 'Exploration and Reserves'},\n",
      "                                  {'category_id': 714813, 'name': 'Production'},\n",
      "                                  {'category_id': 714814,\n",
      "                                   'name': 'Imports and Exports/Pipelines'},\n",
      "                                  {'category_id': 714815, 'name': 'Storage'},\n",
      "                                  {'category_id': 714816,\n",
      "                                   'name': 'Consumption / End Use'}],\n",
      "              'childseries': [],\n",
      "              'name': 'Natural Gas',\n",
      "              'notes': '',\n",
      "              'parent_category_id': '371'},\n",
      " 'request': {'category_id': 714804, 'command': 'category'}}\n"
     ]
    }
   ],
   "source": [
    "url = f'http://api.eia.gov/category/?api_key={eia_key}&category_id=714804'\n",
    "req=requests.get(url)\n",
    "response_json=req.json()\n",
    "data=response_json\n",
    "pprint(data)\n"
   ]
  },
  {
   "cell_type": "markdown",
   "metadata": {},
   "source": [
    "## API Version 2"
   ]
  },
  {
   "cell_type": "code",
   "execution_count": null,
   "metadata": {},
   "outputs": [],
   "source": [
    "\n",
    "api_url=f'https://api.eia.gov/v2/international/data/?api_key={eia_key}&facets[countryRegionId][]=SAU&data[]=value&frequency=monthly'\n",
    "req=requests.get(api_url)\n",
    "response_json=req.json()\n",
    "data=response_json\n",
    "pprint(data)\n"
   ]
  }
 ],
 "metadata": {
  "kernelspec": {
   "display_name": "Python 3.9.7 ('base')",
   "language": "python",
   "name": "python3"
  },
  "language_info": {
   "codemirror_mode": {
    "name": "ipython",
    "version": 3
   },
   "file_extension": ".py",
   "mimetype": "text/x-python",
   "name": "python",
   "nbconvert_exporter": "python",
   "pygments_lexer": "ipython3",
   "version": "3.9.7"
  },
  "orig_nbformat": 4,
  "vscode": {
   "interpreter": {
    "hash": "0989d7d9b979ba42d7c4b044baddb687ed52702fb8d05e22555318f413326299"
   }
  }
 },
 "nbformat": 4,
 "nbformat_minor": 2
}
